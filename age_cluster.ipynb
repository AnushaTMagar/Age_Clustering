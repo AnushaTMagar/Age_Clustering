{
 "cells": [
  {
   "cell_type": "code",
   "execution_count": 21,
   "id": "0342f9d5",
   "metadata": {},
   "outputs": [],
   "source": [
    "import pandas as pd\n",
    "import matplotlib.pyplot as plt\n",
    "import seaborn as sns"
   ]
  },
  {
   "cell_type": "code",
   "execution_count": 22,
   "id": "f7505ba4",
   "metadata": {},
   "outputs": [],
   "source": [
    "df = pd.read_csv('interns.csv')"
   ]
  },
  {
   "cell_type": "code",
   "execution_count": 23,
   "id": "8116919c",
   "metadata": {},
   "outputs": [
    {
     "data": {
      "text/html": [
       "<div>\n",
       "<style scoped>\n",
       "    .dataframe tbody tr th:only-of-type {\n",
       "        vertical-align: middle;\n",
       "    }\n",
       "\n",
       "    .dataframe tbody tr th {\n",
       "        vertical-align: top;\n",
       "    }\n",
       "\n",
       "    .dataframe thead th {\n",
       "        text-align: right;\n",
       "    }\n",
       "</style>\n",
       "<table border=\"1\" class=\"dataframe\">\n",
       "  <thead>\n",
       "    <tr style=\"text-align: right;\">\n",
       "      <th></th>\n",
       "      <th>ID</th>\n",
       "      <th>First Name</th>\n",
       "      <th>Age</th>\n",
       "      <th>Country</th>\n",
       "      <th>City</th>\n",
       "      <th>Timezone</th>\n",
       "      <th>EduQuest Date</th>\n",
       "      <th>Cohort</th>\n",
       "    </tr>\n",
       "  </thead>\n",
       "  <tbody>\n",
       "    <tr>\n",
       "      <th>0</th>\n",
       "      <td>5272</td>\n",
       "      <td>Albina</td>\n",
       "      <td>16.0</td>\n",
       "      <td>Ukraine</td>\n",
       "      <td>Kyiv</td>\n",
       "      <td>GMT+03:00</td>\n",
       "      <td>11-Aug-23</td>\n",
       "      <td>AUG 11 WD 23</td>\n",
       "    </tr>\n",
       "    <tr>\n",
       "      <th>1</th>\n",
       "      <td>40345</td>\n",
       "      <td>Ceren</td>\n",
       "      <td>16.0</td>\n",
       "      <td>Turkey</td>\n",
       "      <td>Istanbul</td>\n",
       "      <td>GMT+03:00</td>\n",
       "      <td>11-Aug-23</td>\n",
       "      <td>AUG 11 WD 23</td>\n",
       "    </tr>\n",
       "    <tr>\n",
       "      <th>2</th>\n",
       "      <td>40438</td>\n",
       "      <td>Dipin</td>\n",
       "      <td>20.0</td>\n",
       "      <td>Nepal</td>\n",
       "      <td>Katmandu</td>\n",
       "      <td>GMT+05:45</td>\n",
       "      <td>11-Aug-23</td>\n",
       "      <td>AUG 11 WD 23</td>\n",
       "    </tr>\n",
       "    <tr>\n",
       "      <th>3</th>\n",
       "      <td>40657</td>\n",
       "      <td>Violeta</td>\n",
       "      <td>25.0</td>\n",
       "      <td>United states</td>\n",
       "      <td>New_york</td>\n",
       "      <td>GMT-04:00</td>\n",
       "      <td>11-Aug-23</td>\n",
       "      <td>AUG 11 WD 23</td>\n",
       "    </tr>\n",
       "    <tr>\n",
       "      <th>4</th>\n",
       "      <td>40291</td>\n",
       "      <td>Cansu</td>\n",
       "      <td>17.0</td>\n",
       "      <td>Turkey</td>\n",
       "      <td>Istanbul</td>\n",
       "      <td>GMT+03:00</td>\n",
       "      <td>11-Aug-23</td>\n",
       "      <td>AUG 11 WD 23</td>\n",
       "    </tr>\n",
       "  </tbody>\n",
       "</table>\n",
       "</div>"
      ],
      "text/plain": [
       "      ID First Name   Age        Country      City   Timezone EduQuest Date  \\\n",
       "0   5272     Albina  16.0        Ukraine      Kyiv  GMT+03:00     11-Aug-23   \n",
       "1  40345      Ceren  16.0         Turkey  Istanbul  GMT+03:00     11-Aug-23   \n",
       "2  40438      Dipin  20.0          Nepal  Katmandu  GMT+05:45     11-Aug-23   \n",
       "3  40657    Violeta  25.0  United states  New_york  GMT-04:00     11-Aug-23   \n",
       "4  40291      Cansu  17.0         Turkey  Istanbul  GMT+03:00     11-Aug-23   \n",
       "\n",
       "         Cohort  \n",
       "0  AUG 11 WD 23  \n",
       "1  AUG 11 WD 23  \n",
       "2  AUG 11 WD 23  \n",
       "3  AUG 11 WD 23  \n",
       "4  AUG 11 WD 23  "
      ]
     },
     "execution_count": 23,
     "metadata": {},
     "output_type": "execute_result"
    }
   ],
   "source": [
    "df.head()"
   ]
  },
  {
   "cell_type": "code",
   "execution_count": 24,
   "id": "d4630ac2",
   "metadata": {},
   "outputs": [
    {
     "name": "stdout",
     "output_type": "stream",
     "text": [
      "<class 'pandas.core.frame.DataFrame'>\n",
      "RangeIndex: 2683 entries, 0 to 2682\n",
      "Data columns (total 8 columns):\n",
      " #   Column         Non-Null Count  Dtype  \n",
      "---  ------         --------------  -----  \n",
      " 0   ID             2681 non-null   object \n",
      " 1   First Name     2683 non-null   object \n",
      " 2   Age            2677 non-null   float64\n",
      " 3   Country        2683 non-null   object \n",
      " 4   City           2677 non-null   object \n",
      " 5   Timezone       2668 non-null   object \n",
      " 6   EduQuest Date  2683 non-null   object \n",
      " 7   Cohort         2683 non-null   object \n",
      "dtypes: float64(1), object(7)\n",
      "memory usage: 167.8+ KB\n"
     ]
    }
   ],
   "source": [
    "df.info()"
   ]
  },
  {
   "cell_type": "code",
   "execution_count": 25,
   "id": "9259628e",
   "metadata": {},
   "outputs": [
    {
     "data": {
      "text/html": [
       "<div>\n",
       "<style scoped>\n",
       "    .dataframe tbody tr th:only-of-type {\n",
       "        vertical-align: middle;\n",
       "    }\n",
       "\n",
       "    .dataframe tbody tr th {\n",
       "        vertical-align: top;\n",
       "    }\n",
       "\n",
       "    .dataframe thead th {\n",
       "        text-align: right;\n",
       "    }\n",
       "</style>\n",
       "<table border=\"1\" class=\"dataframe\">\n",
       "  <thead>\n",
       "    <tr style=\"text-align: right;\">\n",
       "      <th></th>\n",
       "      <th>Age</th>\n",
       "    </tr>\n",
       "  </thead>\n",
       "  <tbody>\n",
       "    <tr>\n",
       "      <th>count</th>\n",
       "      <td>2677.000000</td>\n",
       "    </tr>\n",
       "    <tr>\n",
       "      <th>mean</th>\n",
       "      <td>26.223011</td>\n",
       "    </tr>\n",
       "    <tr>\n",
       "      <th>std</th>\n",
       "      <td>77.480071</td>\n",
       "    </tr>\n",
       "    <tr>\n",
       "      <th>min</th>\n",
       "      <td>-2.000000</td>\n",
       "    </tr>\n",
       "    <tr>\n",
       "      <th>25%</th>\n",
       "      <td>18.000000</td>\n",
       "    </tr>\n",
       "    <tr>\n",
       "      <th>50%</th>\n",
       "      <td>21.000000</td>\n",
       "    </tr>\n",
       "    <tr>\n",
       "      <th>75%</th>\n",
       "      <td>27.000000</td>\n",
       "    </tr>\n",
       "    <tr>\n",
       "      <th>max</th>\n",
       "      <td>2021.000000</td>\n",
       "    </tr>\n",
       "  </tbody>\n",
       "</table>\n",
       "</div>"
      ],
      "text/plain": [
       "               Age\n",
       "count  2677.000000\n",
       "mean     26.223011\n",
       "std      77.480071\n",
       "min      -2.000000\n",
       "25%      18.000000\n",
       "50%      21.000000\n",
       "75%      27.000000\n",
       "max    2021.000000"
      ]
     },
     "execution_count": 25,
     "metadata": {},
     "output_type": "execute_result"
    }
   ],
   "source": [
    "df.describe()"
   ]
  },
  {
   "cell_type": "code",
   "execution_count": 26,
   "id": "2fc49cdc",
   "metadata": {},
   "outputs": [
    {
     "data": {
      "text/plain": [
       "ID                2\n",
       "First Name        0\n",
       "Age               6\n",
       "Country           0\n",
       "City              6\n",
       "Timezone         15\n",
       "EduQuest Date     0\n",
       "Cohort            0\n",
       "dtype: int64"
      ]
     },
     "execution_count": 26,
     "metadata": {},
     "output_type": "execute_result"
    }
   ],
   "source": [
    "df.isnull().sum()"
   ]
  },
  {
   "cell_type": "code",
   "execution_count": 27,
   "id": "e709b3d8",
   "metadata": {},
   "outputs": [],
   "source": [
    "df['Age'].fillna(df['Age'].median(), inplace=True)"
   ]
  },
  {
   "cell_type": "code",
   "execution_count": 28,
   "id": "0a5943b2",
   "metadata": {},
   "outputs": [],
   "source": [
    "df = df[(df['Age'] >= 0) & (df['Age'] <= 100)]"
   ]
  },
  {
   "cell_type": "code",
   "execution_count": 29,
   "id": "3f3c630f",
   "metadata": {},
   "outputs": [
    {
     "data": {
      "image/png": "[encoded data removed]",
      "text/plain": [
       "<Figure size 640x480 with 1 Axes>"
      ]
     },
     "metadata": {},
     "output_type": "display_data"
    }
   ],
   "source": [
    "sns.boxplot(x=df['Age'])\n",
    "plt.title('Box Plot of Age')\n",
    "plt.xlabel('Age')\n",
    "\n",
    "# Display the plot\n",
    "plt.show()"
   ]
  },
  {
   "cell_type": "code",
   "execution_count": 30,
   "id": "e9f32d2c",
   "metadata": {},
   "outputs": [],
   "source": [
    "df = df[(df['Age'] >= 13) & (df['Age'] <= 100)]"
   ]
  },
  {
   "cell_type": "markdown",
   "id": "4bf5911f",
   "metadata": {},
   "source": [
    "Age lower than 13 and greater than 100 is removed in above code.\n"
   ]
  },
  {
   "cell_type": "code",
   "execution_count": 31,
   "id": "06cb4eb5",
   "metadata": {},
   "outputs": [
    {
     "data": {
      "image/png": "[encoded data removed]",
      "text/plain": [
       "<Figure size 1000x600 with 1 Axes>"
      ]
     },
     "metadata": {},
     "output_type": "display_data"
    }
   ],
   "source": [
    "# Plot for for Age Distribution\n",
    "sns.set_style('whitegrid')\n",
    "\n",
    "# Plotting the distribution of 'Age'\n",
    "plt.figure(figsize=(10, 6))\n",
    "age_dist_plot = sns.countplot(x='Age', data=df, palette='viridis')\n",
    "plt.title('Distribution of Age')\n",
    "plt.xlabel('Age')\n",
    "plt.ylabel('Count')\n",
    "plt.xticks(rotation=90)\n",
    "plt.tight_layout()\n",
    "plt.show()"
   ]
  },
  {
   "cell_type": "code",
   "execution_count": 32,
   "id": "5a872d88",
   "metadata": {},
   "outputs": [
    {
     "name": "stdout",
     "output_type": "stream",
     "text": [
      "      ID First Name   Age        Country      City   Timezone EduQuest Date  \\\n",
      "0   5272     Albina  16.0        Ukraine      Kyiv  GMT+03:00     11-Aug-23   \n",
      "1  40345      Ceren  16.0         Turkey  Istanbul  GMT+03:00     11-Aug-23   \n",
      "2  40438      Dipin  20.0          Nepal  Katmandu  GMT+05:45     11-Aug-23   \n",
      "3  40657    Violeta  25.0  United states  New_york  GMT-04:00     11-Aug-23   \n",
      "4  40291      Cansu  17.0         Turkey  Istanbul  GMT+03:00     11-Aug-23   \n",
      "\n",
      "         Cohort Age Group Age Group Encoded  \n",
      "0  AUG 11 WD 23     13-20                 0  \n",
      "1  AUG 11 WD 23     13-20                 0  \n",
      "2  AUG 11 WD 23       20+                 1  \n",
      "3  AUG 11 WD 23       20+                 1  \n",
      "4  AUG 11 WD 23     13-20                 0  \n"
     ]
    }
   ],
   "source": [
    "# Create a new column for age groups\n",
    "bins = [12, 20, float('inf')]\n",
    "labels = ['13-20', '20+']\n",
    "df['Age Group'] = pd.cut(df['Age'], bins=bins, labels=labels, right=False)\n",
    "\n",
    "# Encode age groups as numeric values\n",
    "df['Age Group Encoded'] = df['Age Group'].map({'13-20': 0, '20+': 1})\n",
    "\n",
    "# Check the data\n",
    "print(df.head())"
   ]
  },
  {
   "cell_type": "code",
   "execution_count": 33,
   "id": "86f41fd8",
   "metadata": {},
   "outputs": [
    {
     "data": {
      "text/plain": [
       "20+      1738\n",
       "13-20     918\n",
       "Name: Age Group, dtype: int64"
      ]
     },
     "execution_count": 33,
     "metadata": {},
     "output_type": "execute_result"
    }
   ],
   "source": [
    "df['Age Group'].value_counts()\n",
    "# df['Age Group'].isnull().sum()"
   ]
  },
  {
   "cell_type": "code",
   "execution_count": 34,
   "id": "4f01e6cf",
   "metadata": {},
   "outputs": [
    {
     "data": {
      "text/plain": [
       "0"
      ]
     },
     "execution_count": 34,
     "metadata": {},
     "output_type": "execute_result"
    }
   ],
   "source": [
    "# df['Age Group Encoded'].value_counts()\n",
    "df['Age Group Encoded'].isnull().sum()"
   ]
  },
  {
   "cell_type": "code",
   "execution_count": 35,
   "id": "8c765722",
   "metadata": {
    "scrolled": false
   },
   "outputs": [
    {
     "name": "stdout",
     "output_type": "stream",
     "text": [
      "      ID First Name   Age        Country      City   Timezone EduQuest Date  \\\n",
      "0   5272     Albina  16.0        Ukraine      Kyiv  GMT+03:00     11-Aug-23   \n",
      "1  40345      Ceren  16.0         Turkey  Istanbul  GMT+03:00     11-Aug-23   \n",
      "2  40438      Dipin  20.0          Nepal  Katmandu  GMT+05:45     11-Aug-23   \n",
      "3  40657    Violeta  25.0  United states  New_york  GMT-04:00     11-Aug-23   \n",
      "4  40291      Cansu  17.0         Turkey  Istanbul  GMT+03:00     11-Aug-23   \n",
      "\n",
      "         Cohort Age Group Age Group Encoded  Cluster  \n",
      "0  AUG 11 WD 23     13-20                 0        0  \n",
      "1  AUG 11 WD 23     13-20                 0        0  \n",
      "2  AUG 11 WD 23       20+                 1        1  \n",
      "3  AUG 11 WD 23       20+                 1        1  \n",
      "4  AUG 11 WD 23     13-20                 0        0  \n"
     ]
    }
   ],
   "source": [
    "from sklearn.cluster import KMeans\n",
    "# Prepare data for clustering\n",
    "X = df[['Age Group Encoded']]\n",
    "df['Age Group Encoded'].dropna()\n",
    "# kmeans clustering \n",
    "kmeans = KMeans(n_clusters=2, n_init=10, random_state=0)\n",
    "df['Cluster'] = kmeans.fit_predict(X)\n",
    "\n",
    "print(df.head())"
   ]
  },
  {
   "cell_type": "code",
   "execution_count": 36,
   "id": "3eed9edc",
   "metadata": {},
   "outputs": [
    {
     "data": {
      "image/png": "[encoded data removed]",
      "text/plain": [
       "<Figure size 640x480 with 1 Axes>"
      ]
     },
     "metadata": {},
     "output_type": "display_data"
    }
   ],
   "source": [
    "sns.scatterplot(x='Age', y='Age Group Encoded', hue='Cluster', palette='viridis', data=df)\n",
    "\n",
    "# Add titles and labels\n",
    "plt.title('K-means Clustering of Age Groups')\n",
    "plt.xlabel('Age')\n",
    "plt.ylabel('Age Group Encoded')\n",
    "plt.legend(title='Cluster')\n",
    "plt.show()"
   ]
  },
  {
   "cell_type": "code",
   "execution_count": 37,
   "id": "bdd3673c",
   "metadata": {},
   "outputs": [
    {
     "data": {
      "text/html": [
       "<div>\n",
       "<style scoped>\n",
       "    .dataframe tbody tr th:only-of-type {\n",
       "        vertical-align: middle;\n",
       "    }\n",
       "\n",
       "    .dataframe tbody tr th {\n",
       "        vertical-align: top;\n",
       "    }\n",
       "\n",
       "    .dataframe thead th {\n",
       "        text-align: right;\n",
       "    }\n",
       "</style>\n",
       "<table border=\"1\" class=\"dataframe\">\n",
       "  <thead>\n",
       "    <tr style=\"text-align: right;\">\n",
       "      <th></th>\n",
       "      <th>ID</th>\n",
       "      <th>First Name</th>\n",
       "      <th>Age</th>\n",
       "      <th>Country</th>\n",
       "      <th>City</th>\n",
       "      <th>Timezone</th>\n",
       "      <th>EduQuest Date</th>\n",
       "      <th>Cohort</th>\n",
       "      <th>Age Group</th>\n",
       "      <th>Age Group Encoded</th>\n",
       "      <th>Cluster</th>\n",
       "    </tr>\n",
       "  </thead>\n",
       "  <tbody>\n",
       "    <tr>\n",
       "      <th>0</th>\n",
       "      <td>5272</td>\n",
       "      <td>Albina</td>\n",
       "      <td>16.0</td>\n",
       "      <td>Ukraine</td>\n",
       "      <td>Kyiv</td>\n",
       "      <td>GMT+03:00</td>\n",
       "      <td>11-Aug-23</td>\n",
       "      <td>AUG 11 WD 23</td>\n",
       "      <td>13-20</td>\n",
       "      <td>0</td>\n",
       "      <td>0</td>\n",
       "    </tr>\n",
       "    <tr>\n",
       "      <th>1</th>\n",
       "      <td>40345</td>\n",
       "      <td>Ceren</td>\n",
       "      <td>16.0</td>\n",
       "      <td>Turkey</td>\n",
       "      <td>Istanbul</td>\n",
       "      <td>GMT+03:00</td>\n",
       "      <td>11-Aug-23</td>\n",
       "      <td>AUG 11 WD 23</td>\n",
       "      <td>13-20</td>\n",
       "      <td>0</td>\n",
       "      <td>0</td>\n",
       "    </tr>\n",
       "    <tr>\n",
       "      <th>2</th>\n",
       "      <td>40438</td>\n",
       "      <td>Dipin</td>\n",
       "      <td>20.0</td>\n",
       "      <td>Nepal</td>\n",
       "      <td>Katmandu</td>\n",
       "      <td>GMT+05:45</td>\n",
       "      <td>11-Aug-23</td>\n",
       "      <td>AUG 11 WD 23</td>\n",
       "      <td>20+</td>\n",
       "      <td>1</td>\n",
       "      <td>1</td>\n",
       "    </tr>\n",
       "    <tr>\n",
       "      <th>3</th>\n",
       "      <td>40657</td>\n",
       "      <td>Violeta</td>\n",
       "      <td>25.0</td>\n",
       "      <td>United states</td>\n",
       "      <td>New_york</td>\n",
       "      <td>GMT-04:00</td>\n",
       "      <td>11-Aug-23</td>\n",
       "      <td>AUG 11 WD 23</td>\n",
       "      <td>20+</td>\n",
       "      <td>1</td>\n",
       "      <td>1</td>\n",
       "    </tr>\n",
       "    <tr>\n",
       "      <th>4</th>\n",
       "      <td>40291</td>\n",
       "      <td>Cansu</td>\n",
       "      <td>17.0</td>\n",
       "      <td>Turkey</td>\n",
       "      <td>Istanbul</td>\n",
       "      <td>GMT+03:00</td>\n",
       "      <td>11-Aug-23</td>\n",
       "      <td>AUG 11 WD 23</td>\n",
       "      <td>13-20</td>\n",
       "      <td>0</td>\n",
       "      <td>0</td>\n",
       "    </tr>\n",
       "  </tbody>\n",
       "</table>\n",
       "</div>"
      ],
      "text/plain": [
       "      ID First Name   Age        Country      City   Timezone EduQuest Date  \\\n",
       "0   5272     Albina  16.0        Ukraine      Kyiv  GMT+03:00     11-Aug-23   \n",
       "1  40345      Ceren  16.0         Turkey  Istanbul  GMT+03:00     11-Aug-23   \n",
       "2  40438      Dipin  20.0          Nepal  Katmandu  GMT+05:45     11-Aug-23   \n",
       "3  40657    Violeta  25.0  United states  New_york  GMT-04:00     11-Aug-23   \n",
       "4  40291      Cansu  17.0         Turkey  Istanbul  GMT+03:00     11-Aug-23   \n",
       "\n",
       "         Cohort Age Group Age Group Encoded  Cluster  \n",
       "0  AUG 11 WD 23     13-20                 0        0  \n",
       "1  AUG 11 WD 23     13-20                 0        0  \n",
       "2  AUG 11 WD 23       20+                 1        1  \n",
       "3  AUG 11 WD 23       20+                 1        1  \n",
       "4  AUG 11 WD 23     13-20                 0        0  "
      ]
     },
     "execution_count": 37,
     "metadata": {},
     "output_type": "execute_result"
    }
   ],
   "source": [
    "df.head()\n"
   ]
  },
  {
   "cell_type": "code",
   "execution_count": 38,
   "id": "98d72248",
   "metadata": {},
   "outputs": [
    {
     "name": "stdout",
     "output_type": "stream",
     "text": [
      "Silhouette Score: 1.0000\n"
     ]
    }
   ],
   "source": [
    "from sklearn.metrics import silhouette_score\n",
    "# Calculate evaluation metrics\n",
    "silhouette_avg = silhouette_score(X, df['Cluster'])\n",
    "\n",
    "print(f'Silhouette Score: {silhouette_avg:.4f}')"
   ]
  },
  {
   "cell_type": "code",
   "execution_count": 39,
   "id": "08bc8b29",
   "metadata": {},
   "outputs": [
    {
     "data": {
      "image/png": "[encoded data removed]",
      "text/plain": [
       "<Figure size 640x480 with 1 Axes>"
      ]
     },
     "metadata": {},
     "output_type": "display_data"
    }
   ],
   "source": [
    "sns.scatterplot(x='Age', y='Age Group Encoded', hue='Cluster', palette='viridis', data=df)\n",
    "plt.title('Clusters Based on Age Groups')\n",
    "plt.xlabel('Age')\n",
    "plt.ylabel('Age Group Encoded')\n",
    "plt.legend(title='Cluster')\n",
    "plt.show()"
   ]
  },
  {
   "cell_type": "code",
   "execution_count": 40,
   "id": "2bff6024",
   "metadata": {},
   "outputs": [
    {
     "name": "stdout",
     "output_type": "stream",
     "text": [
      "Data has been exported to cluster_data.xlsx\n"
     ]
    }
   ],
   "source": [
    "# Filter data based on cluster\n",
    "cluster_0_data = df[df['Cluster'] == 0]\n",
    "cluster_1_data = df[df['Cluster'] == 1]\n",
    "\n",
    "# Define the file path\n",
    "file_path = 'cluster_data.csv'\n",
    "\n",
    "# Write data to separate sheets in an Excel file\n",
    "with pd.ExcelWriter(file_path) as writer:\n",
    "    cluster_0_data.to_excel(writer, sheet_name='Interns 13-20', index=False)\n",
    "    cluster_1_data.to_excel(writer, sheet_name='Interns 20+', index=False)\n",
    "\n",
    "print(f'Data has been exported to {file_path}')"
   ]
  },
  {
   "cell_type": "code",
   "execution_count": null,
   "id": "7746bb6e",
   "metadata": {},
   "outputs": [],
   "source": []
  }
 ],
 "metadata": {
  "kernelspec": {
   "display_name": "Python 3 (ipykernel)",
   "language": "python",
   "name": "python3"
  },
  "language_info": {
   "codemirror_mode": {
    "name": "ipython",
    "version": 3
   },
   "file_extension": ".py",
   "mimetype": "text/x-python",
   "name": "python",
   "nbconvert_exporter": "python",
   "pygments_lexer": "ipython3",
   "version": "3.11.3"
  }
 },
 "nbformat": 4,
 "nbformat_minor": 5
}
